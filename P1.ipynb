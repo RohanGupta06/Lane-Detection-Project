{
 "cells": [
  {
   "cell_type": "markdown",
   "metadata": {},
   "source": [
    "# Self-Driving Car Project\n",
    "\n",
    "\n",
    "## Project: **Finding Lane Lines on the Road** "
   ]
  },
  {
   "cell_type": "markdown",
   "metadata": {},
   "source": [
    "<figure>\n",
    " <img src=\"examples/line-segments-example.jpg\" width=\"380\" alt=\"Combined Image\" />\n",
    " <figcaption>\n",
    " <p></p> \n",
    " <p style=\"text-align: center;\"> Your output should look something like this (above) after detecting line segments using the helper functions below </p> \n",
    " </figcaption>\n",
    "</figure>\n",
    " <p></p> \n",
    "<figure>\n",
    " <img src=\"examples/laneLines_thirdPass.jpg\" width=\"380\" alt=\"Combined Image\" />\n",
    " <figcaption>\n",
    " <p></p> \n",
    " <p style=\"text-align: center;\"> Your goal is to connect/average/extrapolate line segments to get output like this</p> \n",
    " </figcaption>\n",
    "</figure>"
   ]
  },
  {
   "cell_type": "markdown",
   "metadata": {},
   "source": [
    "## Import Packages"
   ]
  },
  {
   "cell_type": "code",
   "execution_count": 8,
   "metadata": {},
   "outputs": [
    {
     "ename": "ModuleNotFoundError",
     "evalue": "No module named 'matplotlib'",
     "output_type": "error",
     "traceback": [
      "\u001b[0;31m---------------------------------------------------------------------------\u001b[0m",
      "\u001b[0;31mModuleNotFoundError\u001b[0m                       Traceback (most recent call last)",
      "\u001b[0;32m/var/folders/8q/5m28wn7x79vb8fvg0dlk88340000gn/T/ipykernel_30137/3999274423.py\u001b[0m in \u001b[0;36m<module>\u001b[0;34m\u001b[0m\n\u001b[1;32m      1\u001b[0m \u001b[0;31m#importing some useful packages\u001b[0m\u001b[0;34m\u001b[0m\u001b[0;34m\u001b[0m\u001b[0;34m\u001b[0m\u001b[0m\n\u001b[0;32m----> 2\u001b[0;31m \u001b[0;32mimport\u001b[0m \u001b[0mmatplotlib\u001b[0m\u001b[0;34m.\u001b[0m\u001b[0mpyplot\u001b[0m \u001b[0;32mas\u001b[0m \u001b[0mplt\u001b[0m\u001b[0;34m\u001b[0m\u001b[0;34m\u001b[0m\u001b[0m\n\u001b[0m\u001b[1;32m      3\u001b[0m \u001b[0;32mimport\u001b[0m \u001b[0mmatplotlib\u001b[0m\u001b[0;34m.\u001b[0m\u001b[0mimage\u001b[0m \u001b[0;32mas\u001b[0m \u001b[0mmpimg\u001b[0m\u001b[0;34m\u001b[0m\u001b[0;34m\u001b[0m\u001b[0m\n\u001b[1;32m      4\u001b[0m \u001b[0;32mimport\u001b[0m \u001b[0mmatplotlib\u001b[0m\u001b[0;34m.\u001b[0m\u001b[0mpath\u001b[0m \u001b[0;32mas\u001b[0m \u001b[0mmplPath\u001b[0m\u001b[0;34m\u001b[0m\u001b[0;34m\u001b[0m\u001b[0m\n\u001b[1;32m      5\u001b[0m \u001b[0;32mimport\u001b[0m \u001b[0mnumpy\u001b[0m \u001b[0;32mas\u001b[0m \u001b[0mnp\u001b[0m\u001b[0;34m\u001b[0m\u001b[0;34m\u001b[0m\u001b[0m\n",
      "\u001b[0;31mModuleNotFoundError\u001b[0m: No module named 'matplotlib'"
     ]
    }
   ],
   "source": [
    "#importing some useful packages\n",
    "import matplotlib.pyplot as plt\n",
    "import matplotlib.image as mpimg\n",
    "import matplotlib.path as mplPath\n",
    "import numpy as np\n",
    "import cv2\n",
    "%matplotlib inline\n",
    "\n",
    "last_slope_left = 1\n",
    "last_slope_right = 1"
   ]
  },
  {
   "cell_type": "markdown",
   "metadata": {},
   "source": [
    "## Read in an Image"
   ]
  },
  {
   "cell_type": "code",
   "execution_count": null,
   "metadata": {
    "tags": []
   },
   "outputs": [],
   "source": [
    "image = mpimg.imread('test_images/solidWhiteRight.jpg')\n",
    "print('This image is:', type(image), 'with dimensions:', image.shape)\n",
    "plt.imshow(image)  "
   ]
  },
  {
   "cell_type": "markdown",
   "metadata": {
    "tags": []
   },
   "source": [
    "## Ideas for Lane Detection Pipeline"
   ]
  },
  {
   "cell_type": "markdown",
   "metadata": {},
   "source": [
    "## Helper Functions"
   ]
  },
  {
   "cell_type": "code",
   "execution_count": null,
   "metadata": {},
   "outputs": [],
   "source": [
    "import math\n",
    "\n",
    "def grayscale(img):\n",
    "    return cv2.cvtColor(img, cv2.COLOR_RGB2GRAY)\n",
    "\n",
    "def canny(img, low_threshold, high_threshold):\n",
    "    return cv2.Canny(img, low_threshold, high_threshold)\n",
    "\n",
    "def gaussian_blur(img, kernel_size):\n",
    "    return cv2.GaussianBlur(img, (kernel_size, kernel_size), 0)\n",
    "\n",
    "def region_of_interest(img, vertices):\n",
    "    mask = np.zeros_like(img)   \n",
    "    \n",
    "    if len(img.shape) > 2:\n",
    "        channel_count = img.shape[2]  # i.e. 3 or 4 depending on your image\n",
    "        ignore_mask_color = (255,) * channel_count\n",
    "    else:\n",
    "        ignore_mask_color = 255\n",
    "         \n",
    "    cv2.fillPoly(mask, vertices, ignore_mask_color)\n",
    "    \n",
    "    masked_image = cv2.bitwise_and(img, mask)\n",
    "    return masked_image\n",
    "\n",
    "\n",
    "def draw_lines(img, lines, color=[255, 0, 0], thickness=2):\n",
    "    \n",
    "    leftLane = [0, 0, 0, 0, 0]\n",
    "    rightLane = [0, 0, 0, 0, 0]\n",
    "    vertices = np.array([[100,540],[420, 330], [520, 330], [900,540]])\n",
    "    bbPath = mplPath.Path(vertices)\n",
    "    \n",
    "    minX = 100\n",
    "    maxX = 900\n",
    "    \n",
    "    minY = 330\n",
    "    maxY = 540\n",
    "    \n",
    "    for line in lines:\n",
    "        for x1,y1,x2,y2 in line:\n",
    "            \n",
    "            if (bbPath.contains_point([x1, y1]) is not True):\n",
    "                continue\n",
    "                \n",
    "            m = (y2 - y1) / (x2 - x1)\n",
    "            b = y1 - (m * x1)\n",
    "            if (m > 0):\n",
    "                rightLane[0] = rightLane[0] + m\n",
    "                rightLane[1] += 1\n",
    "                rightLane[2] += b\n",
    "                rightLane[3] = x1\n",
    "                rightLane[4] = y1\n",
    "            else:\n",
    "                leftLane[0] = leftLane[0] + m\n",
    "                leftLane[1] += 1\n",
    "                leftLane[2] += b\n",
    "                leftLane[3] = x1\n",
    "                leftLane[4] = y1\n",
    "    \n",
    "    left_lane_slope = 0\n",
    "    left_lane_y_intercept = 0\n",
    "    right_lane_slope = 0\n",
    "    right_lane_y_intercept = 0\n",
    "    \n",
    "    global last_slope_left\n",
    "    global last_slope_right\n",
    "    \n",
    "    if (leftLane[1] != 0):\n",
    "        left_lane_slope = leftLane[0] / leftLane[1]\n",
    "        left_lane_y_intercept = leftLane[2] / leftLane[1]\n",
    "        last_slope_left = left_lane_slope\n",
    "    else:\n",
    "        left_lane_slope = last_slope_left\n",
    "    \n",
    "    if (rightLane[1] != 0):\n",
    "        right_lane_slope = rightLane[0] / rightLane[1]\n",
    "        right_lane_y_intercept = rightLane[2] / rightLane[1]\n",
    "        last_slope_right = right_lane_slope\n",
    "    else:\n",
    "        right_lane_slope = last_slope_right\n",
    "    \n",
    "    x_bottom_left_lane = (maxY - left_lane_y_intercept) / left_lane_slope\n",
    "    y_bottom_left_lane = left_lane_slope * x_bottom_left_lane + left_lane_y_intercept\n",
    "\n",
    "    \n",
    "    x_top_left_lane = (minY - left_lane_y_intercept) / left_lane_slope\n",
    "    y_top_left_lane = left_lane_slope * x_top_left_lane + left_lane_y_intercept\n",
    "    \n",
    "    cv2.line(img, (int(round(x_bottom_left_lane)), int(round(y_bottom_left_lane))), (int(round(x_top_left_lane)), int(round(y_top_left_lane))), [255, 0, 0], thickness)\n",
    "    \n",
    "    \n",
    "    minX_right = 100\n",
    "    maxX_right = 900\n",
    "    \n",
    "    minY_right = 330\n",
    "    maxY_right = 540\n",
    "    \n",
    "    x_bottom_right_lane = (maxY_right - right_lane_y_intercept) / right_lane_slope\n",
    "    y_bottom_right_lane = right_lane_slope * x_bottom_right_lane + right_lane_y_intercept\n",
    "    \n",
    "    x_top_right_lane = (minY - right_lane_y_intercept) / right_lane_slope\n",
    "    y_top_right_lane = right_lane_slope * x_top_right_lane + right_lane_y_intercept\n",
    "    \n",
    "    cv2.line(img, (int(round(x_bottom_right_lane)), int(round(y_bottom_right_lane))), (int(round(x_top_right_lane)), int(round(y_top_right_lane))), [0, 255, 0], thickness)\n",
    "    \n",
    "    \n",
    "def hough_lines(img, rho, theta, threshold, min_line_len, max_line_gap):\n",
    "\n",
    "    lines = cv2.HoughLinesP(img, rho, theta, threshold, np.array([]), minLineLength=min_line_len, maxLineGap=max_line_gap)\n",
    "    line_img = np.zeros((img.shape[0], img.shape[1], 3), dtype=np.uint8)\n",
    "    draw_lines(line_img, lines, [0, 255, 0], 15)\n",
    "    return line_img\n",
    "\n",
    "\n",
    "def weighted_img(img, initial_img, α=0.8, β=1., γ=0.):\n",
    "    return cv2.addWeighted(initial_img, α, img, β, γ)"
   ]
  },
  {
   "cell_type": "markdown",
   "metadata": {},
   "source": [
    "## Test Images\n"
   ]
  },
  {
   "cell_type": "code",
   "execution_count": null,
   "metadata": {},
   "outputs": [],
   "source": [
    "import os\n",
    "os.listdir(\"test_images/\")"
   ]
  },
  {
   "cell_type": "markdown",
   "metadata": {},
   "source": [
    "## Build a Lane Finding Pipeline\n",
    "\n"
   ]
  },
  {
   "cell_type": "code",
   "execution_count": null,
   "metadata": {
    "scrolled": true
   },
   "outputs": [],
   "source": [
    "image = mpimg.imread('test_images/solidYellowCurve.jpg')\n",
    "\n",
    "\n",
    "gray_img = grayscale(image)\n",
    "\n",
    "gaussian_img = gaussian_blur(gray_img, 5)\n",
    "\n",
    "canny_img = canny(gaussian_img, 50, 150)\n",
    "\n",
    "rho = 1 \n",
    "theta = np.pi/180 \n",
    "threshold = 20     \n",
    "min_line_length = 30 \n",
    "max_line_gap = 3    \n",
    "\n",
    "hough_img = hough_lines(canny_img, rho, theta, threshold, min_line_length, max_line_gap)\n",
    "\n",
    "imshape = hough_img.shape\n",
    "vertices = np.array([[(100,imshape[0]),(420, 330), (520, 330), (imshape[1]-60,imshape[0])]], dtype=np.int32)\n",
    "\n",
    "\n",
    "reg_interest_img = region_of_interest(hough_img, vertices)\n",
    "\n",
    "final_image = weighted_img(reg_interest_img, image)\n",
    "\n",
    "plt.imshow(gray_img, cmap='gray')\n",
    "plt.title(\"Grayscale\")\n",
    "plt.show()\n",
    "\n",
    "plt.imshow(gaussian_img, cmap='gray')\n",
    "plt.title(\"Gaussian\")\n",
    "plt.show()\n",
    "\n",
    "plt.imshow(canny_img, cmap='gray')\n",
    "plt.title(\"Canny\")\n",
    "plt.show()\n",
    "\n",
    "plt.imshow(hough_img, cmap='gray')\n",
    "plt.title(\"Hough Lines\")\n",
    "plt.show()\n",
    "\n",
    "plt.imshow(reg_interest_img, cmap='gray')\n",
    "plt.title(\"Hough lines with region of interes\")\n",
    "plt.show()\n",
    "\n",
    "plt.imshow(final_image, cmap='gray')\n",
    "plt.title(\"Final Weighted Image\")\n",
    "plt.show()\n",
    "\n",
    "\n",
    "\n",
    "\n"
   ]
  },
  {
   "cell_type": "markdown",
   "metadata": {},
   "source": [
    "## Test on Videos"
   ]
  },
  {
   "cell_type": "code",
   "execution_count": null,
   "metadata": {},
   "outputs": [],
   "source": [
    "from moviepy.editor import VideoFileClip\n",
    "from IPython.display import HTML"
   ]
  },
  {
   "cell_type": "code",
   "execution_count": null,
   "metadata": {},
   "outputs": [],
   "source": [
    "def process_image(image):\n",
    "   \n",
    "    gray_img = grayscale(image)\n",
    "    \n",
    "    gaussian_img = gaussian_blur(gray_img, 5)\n",
    "\n",
    "    canny_img = canny(gaussian_img, 50, 150)\n",
    "\n",
    "    rho = 1 \n",
    "    theta = np.pi/180 \n",
    "    threshold = 20     \n",
    "    min_line_length = 30 \n",
    "    max_line_gap = 3   \n",
    "\n",
    "    hough_img = hough_lines(canny_img, rho, theta, threshold, min_line_length, max_line_gap)\n",
    "\n",
    "    imshape = hough_img.shape\n",
    "    vertices = np.array([[(100,imshape[0]),(420, 330), (520, 330), (imshape[1]-60,imshape[0])]], dtype=np.int32)\n",
    "\n",
    "    reg_interest_img = region_of_interest(hough_img, vertices)\n",
    "\n",
    "    final_image = weighted_img(reg_interest_img, image)\n",
    "\n",
    "    return final_image"
   ]
  },
  {
   "cell_type": "markdown",
   "metadata": {},
   "source": [
    "Trying the one with the solid white lane on the right first ..."
   ]
  },
  {
   "cell_type": "code",
   "execution_count": null,
   "metadata": {},
   "outputs": [],
   "source": [
    "white_output = 'test_videos_output/solidWhiteRight.mp4'\n",
    "clip1 = VideoFileClip(\"test_videos/solidWhiteRight.mp4\")\n",
    "white_clip = clip1.fl_image(process_image) \n",
    "%time white_clip.write_videofile(white_output, audio=False)"
   ]
  },
  {
   "cell_type": "code",
   "execution_count": null,
   "metadata": {},
   "outputs": [],
   "source": [
    "HTML(\"\"\"\n",
    "<video width=\"960\" height=\"540\" controls>\n",
    "  <source src=\"{0}\">\n",
    "</video>\n",
    "\"\"\".format(white_output))"
   ]
  },
  {
   "cell_type": "markdown",
   "metadata": {},
   "source": [
    "## Improve the draw_lines() function"
   ]
  },
  {
   "cell_type": "code",
   "execution_count": null,
   "metadata": {},
   "outputs": [],
   "source": [
    "yellow_output = 'test_videos_output/solidYellowLeft.mp4'\n",
    "clip2 = VideoFileClip('test_videos/solidYellowLeft.mp4')\n",
    "yellow_clip = clip2.fl_image(process_image)\n",
    "%time yellow_clip.write_videofile(yellow_output, audio=False)"
   ]
  },
  {
   "cell_type": "code",
   "execution_count": null,
   "metadata": {
    "scrolled": true
   },
   "outputs": [],
   "source": [
    "HTML(\"\"\"\n",
    "<video width=\"960\" height=\"540\" controls>\n",
    "  <source src=\"{0}\">\n",
    "</video>\n",
    "\"\"\".format(yellow_output))"
   ]
  }
 ],
 "metadata": {
  "anaconda-cloud": {},
  "interpreter": {
   "hash": "31f2aee4e71d21fbe5cf8b01ff0e069b9275f58929596ceb00d14d90e3e16cd6"
  },
  "kernelspec": {
   "display_name": "Python 3.8.9 64-bit",
   "name": "python3"
  },
  "language_info": {
   "codemirror_mode": {
    "name": "ipython",
    "version": 3
   },
   "file_extension": ".py",
   "mimetype": "text/x-python",
   "name": "python",
   "nbconvert_exporter": "python",
   "pygments_lexer": "ipython3",
   "version": "3.8.9"
  },
  "widgets": {
   "state": {},
   "version": "1.1.2"
  }
 },
 "nbformat": 4,
 "nbformat_minor": 4
}
